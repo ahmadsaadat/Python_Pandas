{
 "cells": [
  {
   "cell_type": "code",
   "execution_count": 3,
   "metadata": {},
   "outputs": [],
   "source": [
    "import pandas as pd\n",
    "import os\n",
    "import csv"
   ]
  },
  {
   "cell_type": "code",
   "execution_count": 6,
   "metadata": {},
   "outputs": [],
   "source": [
    "#raw input directory location\n",
    "directory = './data/input_raw/'\n",
    "\n",
    "# get a list of all the raw files in directory\n",
    "file_list = os.listdir(directory)"
   ]
  },
  {
   "cell_type": "code",
   "execution_count": 10,
   "metadata": {},
   "outputs": [
    {
     "data": {
      "text/html": [
       "<div>\n",
       "<style scoped>\n",
       "    .dataframe tbody tr th:only-of-type {\n",
       "        vertical-align: middle;\n",
       "    }\n",
       "\n",
       "    .dataframe tbody tr th {\n",
       "        vertical-align: top;\n",
       "    }\n",
       "\n",
       "    .dataframe thead th {\n",
       "        text-align: right;\n",
       "    }\n",
       "</style>\n",
       "<table border=\"1\" class=\"dataframe\">\n",
       "  <thead>\n",
       "    <tr style=\"text-align: right;\">\n",
       "      <th></th>\n",
       "      <th>Composite AxiomaID</th>\n",
       "      <th>Constituent AxiomaID</th>\n",
       "      <th>Weight</th>\n",
       "      <th>Day</th>\n",
       "    </tr>\n",
       "  </thead>\n",
       "  <tbody>\n",
       "    <tr>\n",
       "      <th>0</th>\n",
       "      <td>137M4ZH33</td>\n",
       "      <td>1XCHW5217</td>\n",
       "      <td>0.006269</td>\n",
       "      <td>1</td>\n",
       "    </tr>\n",
       "    <tr>\n",
       "      <th>1</th>\n",
       "      <td>137M4ZH33</td>\n",
       "      <td>2RG7PAW37</td>\n",
       "      <td>0.000388</td>\n",
       "      <td>1</td>\n",
       "    </tr>\n",
       "    <tr>\n",
       "      <th>2</th>\n",
       "      <td>137M4ZH33</td>\n",
       "      <td>2WGWDK1M4</td>\n",
       "      <td>0.007811</td>\n",
       "      <td>1</td>\n",
       "    </tr>\n",
       "    <tr>\n",
       "      <th>3</th>\n",
       "      <td>137M4ZH33</td>\n",
       "      <td>2WR7D8WX6</td>\n",
       "      <td>0.006882</td>\n",
       "      <td>1</td>\n",
       "    </tr>\n",
       "    <tr>\n",
       "      <th>4</th>\n",
       "      <td>137M4ZH33</td>\n",
       "      <td>2YPY4FLP8</td>\n",
       "      <td>0.006013</td>\n",
       "      <td>1</td>\n",
       "    </tr>\n",
       "    <tr>\n",
       "      <th>...</th>\n",
       "      <td>...</td>\n",
       "      <td>...</td>\n",
       "      <td>...</td>\n",
       "      <td>...</td>\n",
       "    </tr>\n",
       "    <tr>\n",
       "      <th>647183</th>\n",
       "      <td>ZZATSGMB8</td>\n",
       "      <td>ULBU2GAF2</td>\n",
       "      <td>0.018452</td>\n",
       "      <td>1</td>\n",
       "    </tr>\n",
       "    <tr>\n",
       "      <th>647184</th>\n",
       "      <td>ZZATSGMB8</td>\n",
       "      <td>VTDXP4DS7</td>\n",
       "      <td>0.027109</td>\n",
       "      <td>1</td>\n",
       "    </tr>\n",
       "    <tr>\n",
       "      <th>647185</th>\n",
       "      <td>ZZATSGMB8</td>\n",
       "      <td>WDYZG82Y3</td>\n",
       "      <td>0.033065</td>\n",
       "      <td>1</td>\n",
       "    </tr>\n",
       "    <tr>\n",
       "      <th>647186</th>\n",
       "      <td>ZZATSGMB8</td>\n",
       "      <td>ZNQZ9FKX1</td>\n",
       "      <td>0.017965</td>\n",
       "      <td>1</td>\n",
       "    </tr>\n",
       "    <tr>\n",
       "      <th>647187</th>\n",
       "      <td>#EOF</td>\n",
       "      <td>NaN</td>\n",
       "      <td>NaN</td>\n",
       "      <td>1</td>\n",
       "    </tr>\n",
       "  </tbody>\n",
       "</table>\n",
       "<p>647188 rows × 4 columns</p>\n",
       "</div>"
      ],
      "text/plain": [
       "       Composite AxiomaID Constituent AxiomaID    Weight  Day\n",
       "0               137M4ZH33            1XCHW5217  0.006269    1\n",
       "1               137M4ZH33            2RG7PAW37  0.000388    1\n",
       "2               137M4ZH33            2WGWDK1M4  0.007811    1\n",
       "3               137M4ZH33            2WR7D8WX6  0.006882    1\n",
       "4               137M4ZH33            2YPY4FLP8  0.006013    1\n",
       "...                   ...                  ...       ...  ...\n",
       "647183          ZZATSGMB8            ULBU2GAF2  0.018452    1\n",
       "647184          ZZATSGMB8            VTDXP4DS7  0.027109    1\n",
       "647185          ZZATSGMB8            WDYZG82Y3  0.033065    1\n",
       "647186          ZZATSGMB8            ZNQZ9FKX1  0.017965    1\n",
       "647187               #EOF                  NaN       NaN    1\n",
       "\n",
       "[647188 rows x 4 columns]"
      ]
     },
     "execution_count": 10,
     "metadata": {},
     "output_type": "execute_result"
    }
   ],
   "source": [
    "df = pd.read_csv('../data/input_raw/DAY1.txt', sep='|', skiprows=2)\n",
    "df.columns = ['Composite AxiomaID', 'Constituent AxiomaID', 'Weight']\n",
    "df['Day'] = 1\n",
    "\n",
    "df"
   ]
  },
  {
   "cell_type": "code",
   "execution_count": 7,
   "metadata": {},
   "outputs": [
    {
     "name": "stdout",
     "output_type": "stream",
     "text": [
      "       Composite AxiomaID Constituent AxiomaID    Weight  Day\n",
      "0               137M4ZH33            1XCHW5217  0.006269    1\n",
      "1               137M4ZH33            2RG7PAW37  0.000388    1\n",
      "2               137M4ZH33            2WGWDK1M4  0.007811    1\n",
      "3               137M4ZH33            2WR7D8WX6  0.006882    1\n",
      "4               137M4ZH33            2YPY4FLP8  0.006013    1\n",
      "...                   ...                  ...       ...  ...\n",
      "647295          ZZATSGMB8            TQX9AVVC8  0.022317    2\n",
      "647296          ZZATSGMB8            ULBU2GAF2  0.018186    2\n",
      "647297          ZZATSGMB8            VTDXP4DS7  0.027406    2\n",
      "647298          ZZATSGMB8            WDYZG82Y3  0.033219    2\n",
      "647299          ZZATSGMB8            ZNQZ9FKX1  0.018077    2\n",
      "\n",
      "[1294487 rows x 4 columns]\n"
     ]
    }
   ],
   "source": [
    "\n",
    "df = pd.DataFrame()\n",
    "\n",
    "for file_name in file_list:\n",
    "    file_directory = directory + file_name\n",
    "    with open(file_directory, 'r') as f:\n",
    "        date_line = f.readline().strip()\n",
    "        extract_day = date_line.split('#DataDate: DAY')[1]\n",
    "        \n",
    "        columns_line = f.readline().strip()\n",
    "        extract_columns = columns_line.split('#Columns: ')[1]\n",
    "        columns_list = extract_columns.split('|')\n",
    "        \n",
    "        #skip first two rows\n",
    "        file_df = pd.read_csv(directory+file_name, sep='|', skiprows=2)\n",
    "        #drop last row\n",
    "        file_df = file_df.iloc[:-1]\n",
    "        #add the appropriate columns\n",
    "        file_df.columns = columns_list\n",
    "        #add the day as a row that pertains to the ETF data collected that day\n",
    "        file_df['Day'] = int(extract_day)\n",
    "        \n",
    "        df = pd.concat([df, file_df])\n",
    "        \n",
    "print(df)\n",
    "        \n",
    "        \n",
    "    "
   ]
  },
  {
   "cell_type": "code",
   "execution_count": 84,
   "metadata": {},
   "outputs": [
    {
     "data": {
      "text/plain": [
       "array([1, 2])"
      ]
     },
     "execution_count": 84,
     "metadata": {},
     "output_type": "execute_result"
    }
   ],
   "source": [
    "day_list = df['Day'].unique()\n",
    "day_list"
   ]
  },
  {
   "cell_type": "code",
   "execution_count": 88,
   "metadata": {},
   "outputs": [
    {
     "name": "stdout",
     "output_type": "stream",
     "text": [
      "2588748\n",
      "1.0000023260000002\n"
     ]
    }
   ],
   "source": [
    "filter_sum = df[df['Day'] == 1]\n",
    "filter_sum = filter_sum[filter_sum['Composite AxiomaID'] == 'ZZATSGMB8']\n",
    "filter_sum = filter_sum['Weight'].sum()\n",
    "print(filter_sum)"
   ]
  },
  {
   "cell_type": "code",
   "execution_count": 110,
   "metadata": {},
   "outputs": [
    {
     "name": "stdout",
     "output_type": "stream",
     "text": [
      "2073\n",
      "Day\n",
      "1    2073\n",
      "2    2073\n",
      "Name: Composite AxiomaID, dtype: int64\n"
     ]
    }
   ],
   "source": [
    "# For each DAY (DAY1 and DAY2), indicate how many distinct ETFs are present\n",
    "distinct_etf_df = df[df['Day'] == day_list[0]]\n",
    "distinct_etf_df = distinct_etf_df['Composite AxiomaID'].unique()\n",
    "print(distinct_etf_df.size)\n",
    "\n",
    "# second method with groupby\n",
    "distinct_etf_df = df.groupby(['Day'])\n",
    "distinct_etf_df = distinct_etf_df['Composite AxiomaID'].nunique()\n",
    "print(distinct_etf_df)\n"
   ]
  },
  {
   "cell_type": "code",
   "execution_count": 111,
   "metadata": {},
   "outputs": [
    {
     "name": "stdout",
     "output_type": "stream",
     "text": [
      "Day  Composite AxiomaID\n",
      "1    137M4ZH33             127\n",
      "     144DRUKM4              40\n",
      "     14JUDRYZ8             496\n",
      "     14N1R9B87             151\n",
      "     14WBQZ7K6              93\n",
      "                          ... \n",
      "2    ZXM8SKTF1              25\n",
      "     ZXS3WWAK4             289\n",
      "     ZY5UFBNY8             101\n",
      "     ZYTH56V99              39\n",
      "     ZZATSGMB8              31\n",
      "Name: Constituent AxiomaID, Length: 4146, dtype: int64\n"
     ]
    }
   ],
   "source": [
    "# For each DAY, for each ETF provide a breakdown of how many constituents are present in each ETF\n",
    "\n",
    "unique_constituent_df = df.groupby(['Day', 'Composite AxiomaID'])\n",
    "unique_constituent_df = unique_constituent_df['Constituent AxiomaID'].nunique()\n",
    "print(unique_constituent_df)\n"
   ]
  },
  {
   "cell_type": "code",
   "execution_count": 144,
   "metadata": {},
   "outputs": [
    {
     "name": "stdout",
     "output_type": "stream",
     "text": [
      "         Constituent AxiomaID _merge\n",
      "0                   1XCHW5217   both\n",
      "1                   1XCHW5217   both\n",
      "2                   1XCHW5217   both\n",
      "3                   1XCHW5217   both\n",
      "4                   1XCHW5217   both\n",
      "...                       ...    ...\n",
      "73774102            FPXH9M322   both\n",
      "73774103            TPZ1MHMA7   both\n",
      "73774104            ZAF45MZF2   both\n",
      "73774105            X37R1RF14   both\n",
      "73774106            S8AHBHL37   both\n",
      "\n",
      "[73774107 rows x 2 columns]\n",
      "Empty DataFrame\n",
      "Columns: [Constituent AxiomaID, _merge]\n",
      "Index: []\n",
      "Empty DataFrame\n",
      "Columns: [Constituent AxiomaID, _merge]\n",
      "Index: []\n",
      "         Constituent AxiomaID _merge\n",
      "0                   1XCHW5217   both\n",
      "1                   1XCHW5217   both\n",
      "2                   1XCHW5217   both\n",
      "3                   1XCHW5217   both\n",
      "4                   1XCHW5217   both\n",
      "...                       ...    ...\n",
      "73774102            FPXH9M322   both\n",
      "73774103            TPZ1MHMA7   both\n",
      "73774104            ZAF45MZF2   both\n",
      "73774105            X37R1RF14   both\n",
      "73774106            S8AHBHL37   both\n",
      "\n",
      "[73774107 rows x 2 columns]\n"
     ]
    }
   ],
   "source": [
    "# Compare DAY1 to DAY2.  For a given ETF, indicate which constituent has dropped from DAY1 to \n",
    "# DAY2, and which constituent has been added from DAY1 to DAY2\n",
    "\n",
    "day1_dataframe = df[df['Day'] == 1]\n",
    "day1_dataframe = day1_dataframe.drop(['Composite AxiomaID', 'Weight', 'Day'], axis = 1)\n",
    "# day1_dataframe = day1_dataframe['Constituent AxiomaID'].unique()\n",
    "# print(day1_dataframe)\n",
    "\n",
    "day2_dataframe = df[df['Day'] == 2]\n",
    "day2_dataframe = day2_dataframe.drop(['Composite AxiomaID', 'Weight', 'Day'], axis = 1)\n",
    "# day2_dataframe = day2_dataframe['Constituent AxiomaID'].unique()\n",
    "# print(day2_dataframe)\n",
    "# print(day1_dataframe)\n",
    "# print(day2_dataframe)\n",
    "merge_dataframes = pd.merge(day1_dataframe, day2_dataframe, how='outer', indicator=True)\n",
    "# in _merge 'left_only' should mean that day1 etf has not been carried over to day2\n",
    "# in _merge 'left_only' should mean that this etf is an addition to day2\n",
    "# in _merge 'both' should mean that this etf is a carry over\n",
    "\n",
    "print(merge_dataframes)\n",
    "print(merge_dataframes[merge_dataframes['_merge'] == 'left_only'])\n",
    "print(merge_dataframes[merge_dataframes['_merge'] == 'right_only'])\n",
    "print(merge_dataframes[merge_dataframes['_merge'] == 'both'])"
   ]
  },
  {
   "cell_type": "code",
   "execution_count": 172,
   "metadata": {},
   "outputs": [
    {
     "name": "stdout",
     "output_type": "stream",
     "text": [
      "       Composite AxiomaID Constituent AxiomaID  Weight Day1  Weight Day2  \\\n",
      "0               137M4ZH33            1XCHW5217    0.0062689    0.0062689   \n",
      "1               137M4ZH33            2RG7PAW37    0.0003879    0.0003879   \n",
      "2               137M4ZH33            2WGWDK1M4    0.0078106    0.0078106   \n",
      "3               137M4ZH33            2WR7D8WX6    0.0068816    0.0068816   \n",
      "4               137M4ZH33            2YPY4FLP8    0.0060129    0.0060129   \n",
      "...                   ...                  ...          ...          ...   \n",
      "647182          ZZATSGMB8            TQX9AVVC8    0.0222710    0.0222710   \n",
      "647183          ZZATSGMB8            ULBU2GAF2    0.0184520    0.0184520   \n",
      "647184          ZZATSGMB8            VTDXP4DS7    0.0271090    0.0271090   \n",
      "647185          ZZATSGMB8            WDYZG82Y3    0.0330650    0.0330650   \n",
      "647186          ZZATSGMB8            ZNQZ9FKX1    0.0179650    0.0179650   \n",
      "\n",
      "        pct_change  \n",
      "0        0.0000000  \n",
      "1        0.0000000  \n",
      "2        0.0000000  \n",
      "3        0.0000000  \n",
      "4        0.0000000  \n",
      "...            ...  \n",
      "647182   0.0000000  \n",
      "647183   0.0000000  \n",
      "647184   0.0000000  \n",
      "647185   0.0000000  \n",
      "647186   0.0000000  \n",
      "\n",
      "[647187 rows x 5 columns]\n"
     ]
    }
   ],
   "source": [
    "# For each ETF, indicate which constituent’s weight has changed the MOST from DAY1 to DAY2\n",
    "\n",
    "# setting the decimal point to see the difference\n",
    "pd.set_option('display.float_format', '{:.7f}'.format)\n",
    "\n",
    "day1_dataframe = df[df['Day'] == 1]\n",
    "day1_dataframe = day1_dataframe.rename(columns={'Weight' : 'Weight Day1'})\n",
    "# print(day1_dataframe)\n",
    "\n",
    "day2_dataframe = df[df['Day'] == 2]\n",
    "day2_dataframe = day2_dataframe.rename(columns={'Weight' : 'Weight Day2'})\n",
    "# print(day2_dataframe)\n",
    "\n",
    "combined_dfs = pd.merge(day1_dataframe, day2_dataframe, on=['Composite AxiomaID','Constituent AxiomaID'], how='outer')\n",
    "combined_dfs = combined_dfs.drop(['Day_x', 'Day_y'], axis=1)\n",
    "\n",
    "combined_dfs['pct_change'] = (combined_dfs['Weight Day2'] - combined_dfs['Weight Day1']) / combined_dfs['Weight Day1']\n",
    "\n",
    "\n",
    "\n",
    "print(combined_dfs)\n",
    "\n",
    "\n",
    "\n"
   ]
  }
 ],
 "metadata": {
  "kernelspec": {
   "display_name": "Python 3",
   "language": "python",
   "name": "python3"
  },
  "language_info": {
   "codemirror_mode": {
    "name": "ipython",
    "version": 3
   },
   "file_extension": ".py",
   "mimetype": "text/x-python",
   "name": "python",
   "nbconvert_exporter": "python",
   "pygments_lexer": "ipython3",
   "version": "3.11.4"
  },
  "orig_nbformat": 4
 },
 "nbformat": 4,
 "nbformat_minor": 2
}
