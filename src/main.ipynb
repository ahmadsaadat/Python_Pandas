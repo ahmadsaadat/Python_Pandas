{
 "cells": [
  {
   "cell_type": "code",
   "execution_count": 1,
   "metadata": {},
   "outputs": [],
   "source": [
    "import pandas as pd\n",
    "import os\n",
    "import csv"
   ]
  },
  {
   "cell_type": "code",
   "execution_count": 17,
   "metadata": {},
   "outputs": [],
   "source": [
    "#raw input directory location\n",
    "directory = '../data/input_raw/'\n",
    "\n",
    "# get a list of all the raw files in directory\n",
    "file_list = os.listdir(directory)"
   ]
  },
  {
   "cell_type": "code",
   "execution_count": 10,
   "metadata": {},
   "outputs": [
    {
     "data": {
      "text/html": [
       "<div>\n",
       "<style scoped>\n",
       "    .dataframe tbody tr th:only-of-type {\n",
       "        vertical-align: middle;\n",
       "    }\n",
       "\n",
       "    .dataframe tbody tr th {\n",
       "        vertical-align: top;\n",
       "    }\n",
       "\n",
       "    .dataframe thead th {\n",
       "        text-align: right;\n",
       "    }\n",
       "</style>\n",
       "<table border=\"1\" class=\"dataframe\">\n",
       "  <thead>\n",
       "    <tr style=\"text-align: right;\">\n",
       "      <th></th>\n",
       "      <th>Composite AxiomaID</th>\n",
       "      <th>Constituent AxiomaID</th>\n",
       "      <th>Weight</th>\n",
       "      <th>Day</th>\n",
       "    </tr>\n",
       "  </thead>\n",
       "  <tbody>\n",
       "    <tr>\n",
       "      <th>0</th>\n",
       "      <td>137M4ZH33</td>\n",
       "      <td>1XCHW5217</td>\n",
       "      <td>0.006269</td>\n",
       "      <td>1</td>\n",
       "    </tr>\n",
       "    <tr>\n",
       "      <th>1</th>\n",
       "      <td>137M4ZH33</td>\n",
       "      <td>2RG7PAW37</td>\n",
       "      <td>0.000388</td>\n",
       "      <td>1</td>\n",
       "    </tr>\n",
       "    <tr>\n",
       "      <th>2</th>\n",
       "      <td>137M4ZH33</td>\n",
       "      <td>2WGWDK1M4</td>\n",
       "      <td>0.007811</td>\n",
       "      <td>1</td>\n",
       "    </tr>\n",
       "    <tr>\n",
       "      <th>3</th>\n",
       "      <td>137M4ZH33</td>\n",
       "      <td>2WR7D8WX6</td>\n",
       "      <td>0.006882</td>\n",
       "      <td>1</td>\n",
       "    </tr>\n",
       "    <tr>\n",
       "      <th>4</th>\n",
       "      <td>137M4ZH33</td>\n",
       "      <td>2YPY4FLP8</td>\n",
       "      <td>0.006013</td>\n",
       "      <td>1</td>\n",
       "    </tr>\n",
       "    <tr>\n",
       "      <th>...</th>\n",
       "      <td>...</td>\n",
       "      <td>...</td>\n",
       "      <td>...</td>\n",
       "      <td>...</td>\n",
       "    </tr>\n",
       "    <tr>\n",
       "      <th>647183</th>\n",
       "      <td>ZZATSGMB8</td>\n",
       "      <td>ULBU2GAF2</td>\n",
       "      <td>0.018452</td>\n",
       "      <td>1</td>\n",
       "    </tr>\n",
       "    <tr>\n",
       "      <th>647184</th>\n",
       "      <td>ZZATSGMB8</td>\n",
       "      <td>VTDXP4DS7</td>\n",
       "      <td>0.027109</td>\n",
       "      <td>1</td>\n",
       "    </tr>\n",
       "    <tr>\n",
       "      <th>647185</th>\n",
       "      <td>ZZATSGMB8</td>\n",
       "      <td>WDYZG82Y3</td>\n",
       "      <td>0.033065</td>\n",
       "      <td>1</td>\n",
       "    </tr>\n",
       "    <tr>\n",
       "      <th>647186</th>\n",
       "      <td>ZZATSGMB8</td>\n",
       "      <td>ZNQZ9FKX1</td>\n",
       "      <td>0.017965</td>\n",
       "      <td>1</td>\n",
       "    </tr>\n",
       "    <tr>\n",
       "      <th>647187</th>\n",
       "      <td>#EOF</td>\n",
       "      <td>NaN</td>\n",
       "      <td>NaN</td>\n",
       "      <td>1</td>\n",
       "    </tr>\n",
       "  </tbody>\n",
       "</table>\n",
       "<p>647188 rows × 4 columns</p>\n",
       "</div>"
      ],
      "text/plain": [
       "       Composite AxiomaID Constituent AxiomaID    Weight  Day\n",
       "0               137M4ZH33            1XCHW5217  0.006269    1\n",
       "1               137M4ZH33            2RG7PAW37  0.000388    1\n",
       "2               137M4ZH33            2WGWDK1M4  0.007811    1\n",
       "3               137M4ZH33            2WR7D8WX6  0.006882    1\n",
       "4               137M4ZH33            2YPY4FLP8  0.006013    1\n",
       "...                   ...                  ...       ...  ...\n",
       "647183          ZZATSGMB8            ULBU2GAF2  0.018452    1\n",
       "647184          ZZATSGMB8            VTDXP4DS7  0.027109    1\n",
       "647185          ZZATSGMB8            WDYZG82Y3  0.033065    1\n",
       "647186          ZZATSGMB8            ZNQZ9FKX1  0.017965    1\n",
       "647187               #EOF                  NaN       NaN    1\n",
       "\n",
       "[647188 rows x 4 columns]"
      ]
     },
     "execution_count": 10,
     "metadata": {},
     "output_type": "execute_result"
    }
   ],
   "source": [
    "df = pd.read_csv('../data/input_raw/DAY1.txt', sep='|', skiprows=2)\n",
    "df.columns = ['Composite AxiomaID', 'Constituent AxiomaID', 'Weight']\n",
    "df['Day'] = 1\n",
    "\n",
    "df"
   ]
  },
  {
   "cell_type": "code",
   "execution_count": 82,
   "metadata": {},
   "outputs": [
    {
     "name": "stdout",
     "output_type": "stream",
     "text": [
      "       Composite AxiomaID Constituent AxiomaID    Weight  Day\n",
      "0               137M4ZH33            1XCHW5217  0.006269    1\n",
      "1               137M4ZH33            2RG7PAW37  0.000388    1\n",
      "2               137M4ZH33            2WGWDK1M4  0.007811    1\n",
      "3               137M4ZH33            2WR7D8WX6  0.006882    1\n",
      "4               137M4ZH33            2YPY4FLP8  0.006013    1\n",
      "...                   ...                  ...       ...  ...\n",
      "647182          ZZATSGMB8            TQX9AVVC8  0.022271    2\n",
      "647183          ZZATSGMB8            ULBU2GAF2  0.018452    2\n",
      "647184          ZZATSGMB8            VTDXP4DS7  0.027109    2\n",
      "647185          ZZATSGMB8            WDYZG82Y3  0.033065    2\n",
      "647186          ZZATSGMB8            ZNQZ9FKX1  0.017965    2\n",
      "\n",
      "[1294374 rows x 4 columns]\n"
     ]
    }
   ],
   "source": [
    "\n",
    "df = pd.DataFrame()\n",
    "\n",
    "for file_name in file_list:\n",
    "    file_directory = directory + file_name\n",
    "    with open(file_directory, 'r') as f:\n",
    "        date_line = f.readline().strip()\n",
    "        extract_day = date_line.split('#DataDate: DAY')[1]\n",
    "        \n",
    "        columns_line = f.readline().strip()\n",
    "        extract_columns = columns_line.split('#Columns: ')[1]\n",
    "        columns_list = extract_columns.split('|')\n",
    "        \n",
    "        #skip first two rows\n",
    "        file_df = pd.read_csv('../data/input_raw/DAY1.txt', sep='|', skiprows=2)\n",
    "        #drop last row\n",
    "        file_df = file_df.iloc[:-1]\n",
    "        #add the appropriate columns\n",
    "        file_df.columns = columns_list\n",
    "        #add the day as a row that pertains to the ETF data collected that day\n",
    "        file_df['Day'] = int(extract_day)\n",
    "        \n",
    "        df = pd.concat([df, file_df])\n",
    "        \n",
    "print(df)\n",
    "        \n",
    "        \n",
    "    "
   ]
  },
  {
   "cell_type": "code",
   "execution_count": 84,
   "metadata": {},
   "outputs": [
    {
     "data": {
      "text/plain": [
       "array([1, 2])"
      ]
     },
     "execution_count": 84,
     "metadata": {},
     "output_type": "execute_result"
    }
   ],
   "source": [
    "day_list = df['Day'].unique()\n",
    "day_list"
   ]
  },
  {
   "cell_type": "code",
   "execution_count": 88,
   "metadata": {},
   "outputs": [
    {
     "name": "stdout",
     "output_type": "stream",
     "text": [
      "2588748\n",
      "1.0000023260000002\n"
     ]
    }
   ],
   "source": [
    "filter_sum = df[df['Day'] == 1]\n",
    "filter_sum = filter_sum[filter_sum['Composite AxiomaID'] == 'ZZATSGMB8']\n",
    "filter_sum = filter_sum['Weight'].sum()\n",
    "print(filter_sum)"
   ]
  },
  {
   "cell_type": "code",
   "execution_count": 110,
   "metadata": {},
   "outputs": [
    {
     "name": "stdout",
     "output_type": "stream",
     "text": [
      "2073\n",
      "Day\n",
      "1    2073\n",
      "2    2073\n",
      "Name: Composite AxiomaID, dtype: int64\n"
     ]
    }
   ],
   "source": [
    "# For each DAY (DAY1 and DAY2), indicate how many distinct ETFs are present\n",
    "distinct_etf_df = df[df['Day'] == day_list[0]]\n",
    "distinct_etf_df = distinct_etf_df['Composite AxiomaID'].unique()\n",
    "print(distinct_etf_df.size)\n",
    "\n",
    "# second method with groupby\n",
    "distinct_etf_df = df.groupby(['Day'])\n",
    "distinct_etf_df = distinct_etf_df['Composite AxiomaID'].nunique()\n",
    "print(distinct_etf_df)\n"
   ]
  },
  {
   "cell_type": "code",
   "execution_count": 111,
   "metadata": {},
   "outputs": [
    {
     "name": "stdout",
     "output_type": "stream",
     "text": [
      "Day  Composite AxiomaID\n",
      "1    137M4ZH33             127\n",
      "     144DRUKM4              40\n",
      "     14JUDRYZ8             496\n",
      "     14N1R9B87             151\n",
      "     14WBQZ7K6              93\n",
      "                          ... \n",
      "2    ZXM8SKTF1              25\n",
      "     ZXS3WWAK4             289\n",
      "     ZY5UFBNY8             101\n",
      "     ZYTH56V99              39\n",
      "     ZZATSGMB8              31\n",
      "Name: Constituent AxiomaID, Length: 4146, dtype: int64\n"
     ]
    }
   ],
   "source": [
    "# For each DAY, for each ETF provide a breakdown of how many constituents are present in each ETF\n",
    "\n",
    "unique_constituent_df = df.groupby(['Day', 'Composite AxiomaID'])\n",
    "unique_constituent_df = unique_constituent_df['Constituent AxiomaID'].nunique()\n",
    "print(unique_constituent_df)\n"
   ]
  },
  {
   "cell_type": "code",
   "execution_count": 113,
   "metadata": {},
   "outputs": [
    {
     "data": {
      "text/html": [
       "<div>\n",
       "<style scoped>\n",
       "    .dataframe tbody tr th:only-of-type {\n",
       "        vertical-align: middle;\n",
       "    }\n",
       "\n",
       "    .dataframe tbody tr th {\n",
       "        vertical-align: top;\n",
       "    }\n",
       "\n",
       "    .dataframe thead th {\n",
       "        text-align: right;\n",
       "    }\n",
       "</style>\n",
       "<table border=\"1\" class=\"dataframe\">\n",
       "  <thead>\n",
       "    <tr style=\"text-align: right;\">\n",
       "      <th></th>\n",
       "      <th>Composite AxiomaID</th>\n",
       "      <th>Constituent AxiomaID</th>\n",
       "      <th>Weight</th>\n",
       "      <th>Day</th>\n",
       "    </tr>\n",
       "  </thead>\n",
       "  <tbody>\n",
       "    <tr>\n",
       "      <th>0</th>\n",
       "      <td>137M4ZH33</td>\n",
       "      <td>1XCHW5217</td>\n",
       "      <td>0.006269</td>\n",
       "      <td>1</td>\n",
       "    </tr>\n",
       "    <tr>\n",
       "      <th>1</th>\n",
       "      <td>137M4ZH33</td>\n",
       "      <td>2RG7PAW37</td>\n",
       "      <td>0.000388</td>\n",
       "      <td>1</td>\n",
       "    </tr>\n",
       "    <tr>\n",
       "      <th>2</th>\n",
       "      <td>137M4ZH33</td>\n",
       "      <td>2WGWDK1M4</td>\n",
       "      <td>0.007811</td>\n",
       "      <td>1</td>\n",
       "    </tr>\n",
       "    <tr>\n",
       "      <th>3</th>\n",
       "      <td>137M4ZH33</td>\n",
       "      <td>2WR7D8WX6</td>\n",
       "      <td>0.006882</td>\n",
       "      <td>1</td>\n",
       "    </tr>\n",
       "    <tr>\n",
       "      <th>4</th>\n",
       "      <td>137M4ZH33</td>\n",
       "      <td>2YPY4FLP8</td>\n",
       "      <td>0.006013</td>\n",
       "      <td>1</td>\n",
       "    </tr>\n",
       "    <tr>\n",
       "      <th>...</th>\n",
       "      <td>...</td>\n",
       "      <td>...</td>\n",
       "      <td>...</td>\n",
       "      <td>...</td>\n",
       "    </tr>\n",
       "    <tr>\n",
       "      <th>647182</th>\n",
       "      <td>ZZATSGMB8</td>\n",
       "      <td>TQX9AVVC8</td>\n",
       "      <td>0.022271</td>\n",
       "      <td>1</td>\n",
       "    </tr>\n",
       "    <tr>\n",
       "      <th>647183</th>\n",
       "      <td>ZZATSGMB8</td>\n",
       "      <td>ULBU2GAF2</td>\n",
       "      <td>0.018452</td>\n",
       "      <td>1</td>\n",
       "    </tr>\n",
       "    <tr>\n",
       "      <th>647184</th>\n",
       "      <td>ZZATSGMB8</td>\n",
       "      <td>VTDXP4DS7</td>\n",
       "      <td>0.027109</td>\n",
       "      <td>1</td>\n",
       "    </tr>\n",
       "    <tr>\n",
       "      <th>647185</th>\n",
       "      <td>ZZATSGMB8</td>\n",
       "      <td>WDYZG82Y3</td>\n",
       "      <td>0.033065</td>\n",
       "      <td>1</td>\n",
       "    </tr>\n",
       "    <tr>\n",
       "      <th>647186</th>\n",
       "      <td>ZZATSGMB8</td>\n",
       "      <td>ZNQZ9FKX1</td>\n",
       "      <td>0.017965</td>\n",
       "      <td>1</td>\n",
       "    </tr>\n",
       "  </tbody>\n",
       "</table>\n",
       "<p>647187 rows × 4 columns</p>\n",
       "</div>"
      ],
      "text/plain": [
       "       Composite AxiomaID Constituent AxiomaID    Weight  Day\n",
       "0               137M4ZH33            1XCHW5217  0.006269    1\n",
       "1               137M4ZH33            2RG7PAW37  0.000388    1\n",
       "2               137M4ZH33            2WGWDK1M4  0.007811    1\n",
       "3               137M4ZH33            2WR7D8WX6  0.006882    1\n",
       "4               137M4ZH33            2YPY4FLP8  0.006013    1\n",
       "...                   ...                  ...       ...  ...\n",
       "647182          ZZATSGMB8            TQX9AVVC8  0.022271    1\n",
       "647183          ZZATSGMB8            ULBU2GAF2  0.018452    1\n",
       "647184          ZZATSGMB8            VTDXP4DS7  0.027109    1\n",
       "647185          ZZATSGMB8            WDYZG82Y3  0.033065    1\n",
       "647186          ZZATSGMB8            ZNQZ9FKX1  0.017965    1\n",
       "\n",
       "[647187 rows x 4 columns]"
      ]
     },
     "execution_count": 113,
     "metadata": {},
     "output_type": "execute_result"
    }
   ],
   "source": [
    "# Compare DAY1 to DAY2.  For a given ETF, indicate which constituent has dropped from DAY1 to \n",
    "# DAY2, and which constituent has been added from DAY1 to DAY2\n",
    "\n",
    "day1_dataframe = df[df['Day'] == 1]\n",
    "day2_dataframe = df[df['Day'] == 2]\n",
    "print(day1_dataframe)"
   ]
  }
 ],
 "metadata": {
  "kernelspec": {
   "display_name": "Python 3",
   "language": "python",
   "name": "python3"
  },
  "language_info": {
   "codemirror_mode": {
    "name": "ipython",
    "version": 3
   },
   "file_extension": ".py",
   "mimetype": "text/x-python",
   "name": "python",
   "nbconvert_exporter": "python",
   "pygments_lexer": "ipython3",
   "version": "3.11.4"
  },
  "orig_nbformat": 4
 },
 "nbformat": 4,
 "nbformat_minor": 2
}
